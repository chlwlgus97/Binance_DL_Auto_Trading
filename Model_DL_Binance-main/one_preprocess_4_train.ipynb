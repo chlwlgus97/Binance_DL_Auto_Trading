{
 "cells": [
  {
   "cell_type": "code",
   "execution_count": 3,
   "metadata": {},
   "outputs": [],
   "source": [
    "import pandas as pd\n",
    "import numpy as np\n",
    "from sklearn.preprocessing import StandardScaler\n",
    "import joblib\n",
    "import os\n",
    "from sklearn.preprocessing import RobustScaler\n",
    "\n",
    "# 설정 변수\n",
    "SYMBOL = 'BTCUSDT'\n",
    "\n",
    "# 파일 경로\n",
    "file_path = '\n"',
    "\n",
    "def calculate_sma(df, window):\n",
    "    return df.rolling(window=window).mean()\n",
    "\n",
    "def calculate_bollinger_bands(df, window):\n",
    "    sma = df.rolling(window=window).mean()\n",
    "    std = df.rolling(window=window).std()\n",
    "    bollinger_up = sma + (std * 2)\n",
    "    bollinger_down = sma - (std * 2)\n",
    "    return bollinger_up, bollinger_down\n",
    "\n",
    "# 데이터 로드 및 전처리 함수\n",
    "def load_and_preprocess_data(file_path):\n",
    "    df = pd.read_csv(file_path)\n",
    "    \n",
    "    # 시간 순서대로 정렬\n",
    "    df['open_time'] = pd.to_datetime(df['open_time'])\n",
    "    df.sort_values(by='open_time', inplace=True)\n",
    "    \n",
    "    df.drop(columns=['open', 'high', 'low'], inplace=True)\n",
    "    \n",
    "    # SMA 및 볼린저 밴드 계산\n",
    "    df['sma_20'] = calculate_sma(df['close'], 20)\n",
    "    bollinger_up, bollinger_down = calculate_bollinger_bands(df['close'], 20)\n",
    "    df['bollinger_up'] = bollinger_up\n",
    "    df['bollinger_down'] = bollinger_down\n",
    "    \n",
    "    df['close_shift'] = df['close'].shift(+1)\n",
    "    df['new_close'] = (df['close'] - df['close_shift']) / df['close_shift']\n",
    "    \n",
    "    # 가격 변동률 계산\n",
    "    df['future_close'] = df['close'].shift(-3)\n",
    "    \n",
    "    # 가격 움직임 계산 ()\n",
    "    def label_movement(row):\n",
    "        if pd.isna(row['future_close']):\n",
    "            return None\n",
    "        if row['future_close'] > row['close'] * 1.0006:\n",
    "            return 2\n",
    "        elif row['future_close'] < row['close'] * 0.9994:\n",
    "            return 1\n",
    "        else:\n",
    "            return 0\n",
    "        \n",
    "    df['movement'] = df.apply(label_movement, axis=1)\n",
    "    df.dropna(inplace=True)\n",
    "    df.drop(columns=['open_time','close','future_close','close_shift', 'symbol','quote_av','tb_base_av','tb_quote_av'], inplace=True)\n",
    "    \n",
    "    # RobustScaler 인스턴스 생성\n",
    "    scaler = RobustScaler()\n",
    "\n",
    "    # 데이터프레임에서 'movement' 컬럼을 제외한 수치형 컬럼 선택\n",
    "    numeric_cols = df.select_dtypes(include=['float64', 'int64']).columns\n",
    "    numeric_cols = numeric_cols.drop('movement')  # 'movement' 컬럼 제외\n",
    "\n",
    "    # 수치형 컬럼에 대해 RobustScaler 적용\n",
    "    df[numeric_cols] = scaler.fit_transform(df[numeric_cols])\n",
    "    \n",
    "    return df\n",
    "\n",
    "df = load_and_preprocess_data(file_path)"
   ]
  },
  {
   "cell_type": "code",
   "execution_count": 82,
   "metadata": {},
   "outputs": [
    {
     "name": "stdout",
     "output_type": "stream",
     "text": [
      "movement\n",
      "0.0    832291\n",
      "1.0    426552\n",
      "2.0    425936\n",
      "Name: count, dtype: int64\n"
     ]
    }
   ],
   "source": [
    "movement_counts = df['movement'].value_counts()\n",
    "print(movement_counts)"
   ]
  },
  {
   "cell_type": "code",
   "execution_count": 4,
   "metadata": {},
   "outputs": [
    {
     "data": {
      "text/plain": [
       "{0: 0.2, 1: 0.4, 2: 0.4}"
      ]
     },
     "execution_count": 4,
     "metadata": {},
     "output_type": "execute_result"
    }
   ],
   "source": [
    "# # 전체 샘플 수와 각 클래스의 샘플 수\n",
    "# n_samples_0 = 832291\n",
    "# n_samples_1 = 426552\n",
    "# n_samples_2 = 425936\n",
    "# total_samples = n_samples_0 + n_samples_1 + n_samples_2\n",
    "\n",
    "# # 각 클래스의 초기 가중치 계산\n",
    "# initial_weight_0 = total_samples / (3 * n_samples_0)\n",
    "# initial_weight_1 = total_samples / (3 * n_samples_1)\n",
    "# initial_weight_2 = total_samples / (3 * n_samples_2)\n",
    "\n",
    "# # 가중치 정규화\n",
    "# weights_sum = initial_weight_0 + initial_weight_1 + initial_weight_2\n",
    "# normalized_weight_0 = round((initial_weight_0 / weights_sum), 3)\n",
    "# normalized_weight_1 = round((initial_weight_1 / weights_sum), 3)\n",
    "# normalized_weight_2 = round((initial_weight_2 / weights_sum), 3)\n",
    "# normalized_weight_0, normalized_weight_1, normalized_weight_2\n",
    "class_weights = {0: 0.2, 1: 0.4, 2: 0.4}\n",
    "class_weights"
   ]
  },
  {
   "cell_type": "code",
   "execution_count": 5,
   "metadata": {},
   "outputs": [],
   "source": [
    "real = ['volume', 'trades', 'sma_20', 'bollinger_up', 'bollinger_down', 'new_close', 'movement']\n",
    "# 시퀀스 데이터 생성 함수\n",
    "def create_sequences(df, seq_length):\n",
    "    X, y = [], []\n",
    "    data = df[real].values\n",
    "    for i in range(len(data) - seq_length):\n",
    "        X.append(data[i:i+seq_length, :-1])\n",
    "        y.append(data[i+seq_length, -1])  # price_change_ratio을 예측값으로 사용\n",
    "\n",
    "\n",
    "    return np.array(X), np.array(y)\n",
    "\n",
    "X, y = create_sequences(df, seq_length=20)"
   ]
  },
  {
   "cell_type": "code",
   "execution_count": 6,
   "metadata": {},
   "outputs": [
    {
     "name": "stdout",
     "output_type": "stream",
     "text": [
      "Training data shape: (1347807, 20, 6)\n",
      "Test data shape: (336952, 20, 6)\n",
      "Training label shape: (1347807,)\n"
     ]
    }
   ],
   "source": [
    "# 데이터 분할\n",
    "# 데이터셋의 총 길이 계산\n",
    "total_length = len(X)\n",
    "\n",
    "# 학습 데이터와 테스트 데이터로 분할할 인덱스 계산\n",
    "split_index = int(total_length * 0.8)\n",
    "\n",
    "# 시계열 데이터를 시간 순서대로 분할\n",
    "X_train = X[:split_index]\n",
    "X_test = X[split_index:]\n",
    "y_train = y[:split_index]\n",
    "y_test = y[split_index:]\n",
    "\n",
    "print(f\"Training data shape: {X_train.shape}\")\n",
    "print(f\"Test data shape: {X_test.shape}\")\n",
    "print(f\"Training label shape: {y_train.shape}\")"
   ]
  },
  {
   "cell_type": "code",
   "execution_count": 19,
   "metadata": {},
   "outputs": [],
   "source": [
    "# import tensorflow as tf\n",
    "# from tensorflow.keras.metrics import Metric\n",
    "\n",
    "# class MulticlassF1Score(Metric):\n",
    "#     def __init__(self, num_classes, name='multiclass_f1_score', **kwargs):\n",
    "#         super(MulticlassF1Score, self).__init__(name=name, **kwargs)\n",
    "#         self.num_classes = num_classes\n",
    "#         self.true_positives = self.add_weight(name='tp', shape=(num_classes,), initializer='zeros')\n",
    "#         self.false_positives = self.add_weight(name='fp', shape=(num_classes,), initializer='zeros')\n",
    "#         self.false_negatives = self.add_weight(name='fn', shape=(num_classes,), initializer='zeros')\n",
    "\n",
    "#     def update_state(self, y_true, y_pred, sample_weight=None):\n",
    "#         y_pred = tf.argmax(y_pred, axis=1)\n",
    "#         y_true = tf.cast(y_true, tf.int32)\n",
    "\n",
    "#         # 각 클래스별로 true positives, false positives, false negatives를 계산\n",
    "#         for class_id in range(self.num_classes):\n",
    "#             # 현재 클래스에 대한 true/false positives/negatives를 찾습니다.\n",
    "#             tp = tf.reduce_sum(tf.cast(tf.logical_and(tf.equal(y_true, class_id), tf.equal(y_pred, class_id)), tf.float32))\n",
    "#             fp = tf.reduce_sum(tf.cast(tf.logical_and(tf.not_equal(y_true, class_id), tf.equal(y_pred, class_id)), tf.float32))\n",
    "#             fn = tf.reduce_sum(tf.cast(tf.logical_and(tf.equal(y_true, class_id), tf.not_equal(y_pred, class_id)), tf.float32))\n",
    "\n",
    "#             # 업데이트 인덱스 및 값 생성\n",
    "#             indices = tf.reshape([class_id], [1, 1])\n",
    "#             tp_updates = tf.reshape(tp, [1])\n",
    "#             fp_updates = tf.reshape(fp, [1])\n",
    "#             fn_updates = tf.reshape(fn, [1])\n",
    "\n",
    "#             # tf.tensor_scatter_nd_add를 사용하여 가중치를 업데이트\n",
    "#             self.true_positives.assign(tf.tensor_scatter_nd_add(self.true_positives, indices, tp_updates))\n",
    "#             self.false_positives.assign(tf.tensor_scatter_nd_add(self.false_positives, indices, fp_updates))\n",
    "#             self.false_negatives.assign(tf.tensor_scatter_nd_add(self.false_negatives, indices, fn_updates))\n",
    "\n",
    "\n",
    "#     def result(self):\n",
    "#         precision = self.true_positives / (self.true_positives + self.false_positives + tf.keras.backend.epsilon())\n",
    "#         recall = self.true_positives / (self.true_positives + self.false_negatives + tf.keras.backend.epsilon())\n",
    "#         f1_score = 2 * (precision * recall) / (precision + recall + tf.keras.backend.epsilon())\n",
    "#         macro_f1_score = tf.reduce_mean(f1_score)\n",
    "#         return macro_f1_score\n",
    "\n",
    "#     def reset_state(self):\n",
    "#         for i in range(self.num_classes):\n",
    "#             self.true_positives[i].assign(0)\n",
    "#             self.false_positives[i].assign(0)\n",
    "#             self.false_negatives[i].assign(0)"
   ]
  },
  {
   "cell_type": "code",
   "execution_count": 37,
   "metadata": {},
   "outputs": [],
   "source": [
    "import tensorflow as tf\n",
    "from tensorflow.keras.metrics import Metric\n",
    "# MulticlassF1Score 클래스 정의\n",
    "class MulticlassF1Score(Metric):\n",
    "    def __init__(self, num_classes, name='multiclass_f1_score', **kwargs):\n",
    "        super().__init__(name=name, **kwargs)\n",
    "        self.num_classes = num_classes\n",
    "        self.true_positives = self.add_weight(name='tp', shape=(num_classes,), initializer='zeros')\n",
    "        self.false_positives = self.add_weight(name='fp', shape=(num_classes,), initializer='zeros')\n",
    "        self.false_negatives = self.add_weight(name='fn', shape=(num_classes,), initializer='zeros')\n",
    "\n",
    "    def update_state(self, y_true, y_pred, sample_weight=None):\n",
    "        y_pred = tf.argmax(y_pred, axis=1)\n",
    "        y_true = tf.cast(y_true, tf.int32)\n",
    "        \n",
    "        for class_id in range(self.num_classes):\n",
    "            tp = tf.reduce_sum(tf.cast(tf.logical_and(tf.equal(y_true, class_id), tf.equal(y_pred, class_id)), tf.float32))\n",
    "            fp = tf.reduce_sum(tf.cast(tf.logical_and(tf.not_equal(y_true, class_id), tf.equal(y_pred, class_id)), tf.float32))\n",
    "            fn = tf.reduce_sum(tf.cast(tf.logical_and(tf.equal(y_true, class_id), tf.not_equal(y_pred, class_id)), tf.float32))\n",
    "\n",
    "            self.true_positives.assign_add(tf.tensor_scatter_nd_add(self.true_positives, [[class_id]], [tp]))\n",
    "            self.false_positives.assign_add(tf.tensor_scatter_nd_add(self.false_positives, [[class_id]], [fp]))\n",
    "            self.false_negatives.assign_add(tf.tensor_scatter_nd_add(self.false_negatives, [[class_id]], [fn]))\n",
    "\n",
    "    def result(self):\n",
    "        precision = self.true_positives / (self.true_positives + self.false_positives + tf.keras.backend.epsilon())\n",
    "        recall = self.true_positives / (self.true_positives + self.false_negatives + tf.keras.backend.epsilon())\n",
    "        f1_score = 2 * (precision * recall) / (precision + recall + tf.keras.backend.epsilon())\n",
    "        macro_f1_score = tf.reduce_mean(f1_score)\n",
    "        return macro_f1_score\n",
    "\n",
    "    def reset_state(self):\n",
    "        for i in range(self.num_classes):\n",
    "            self.true_positives[i].assign(0)\n",
    "            self.false_positives[i].assign(0)\n",
    "            self.false_negatives[i].assign(0)\n",
    "            \n",
    "    def get_config(self):\n",
    "        config = super().get_config()\n",
    "        config['num_classes'] = self.num_classes\n",
    "        return config\n",
    "\n",
    "    @classmethod\n",
    "    def from_config(cls, config):\n",
    "        # 수정된 from_config 메서드\n",
    "        return cls(**config)"
   ]
  },
  {
   "cell_type": "code",
   "execution_count": 20,
   "metadata": {},
   "outputs": [
    {
     "name": "stdout",
     "output_type": "stream",
     "text": [
      "Model: \"model_4\"\n",
      "_________________________________________________________________\n",
      " Layer (type)                Output Shape              Param #   \n",
      "=================================================================\n",
      " input_6 (InputLayer)        [(None, 20, 6)]           0         \n",
      "                                                                 \n",
      " conv1d_15 (Conv1D)          (None, 18, 64)            1216      \n",
      "                                                                 \n",
      " max_pooling1d_10 (MaxPooli  (None, 9, 64)             0         \n",
      " ng1D)                                                           \n",
      "                                                                 \n",
      " conv1d_16 (Conv1D)          (None, 7, 128)            24704     \n",
      "                                                                 \n",
      " max_pooling1d_11 (MaxPooli  (None, 3, 128)            0         \n",
      " ng1D)                                                           \n",
      "                                                                 \n",
      " conv1d_17 (Conv1D)          (None, 1, 64)             24640     \n",
      "                                                                 \n",
      " lstm_4 (LSTM)               (None, 50)                23000     \n",
      "                                                                 \n",
      " dropout_8 (Dropout)         (None, 50)                0         \n",
      "                                                                 \n",
      " dense_8 (Dense)             (None, 50)                2550      \n",
      "                                                                 \n",
      " dropout_9 (Dropout)         (None, 50)                0         \n",
      "                                                                 \n",
      " dense_9 (Dense)             (None, 3)                 153       \n",
      "                                                                 \n",
      "=================================================================\n",
      "Total params: 76263 (297.90 KB)\n",
      "Trainable params: 76263 (297.90 KB)\n",
      "Non-trainable params: 0 (0.00 Byte)\n",
      "_________________________________________________________________\n"
     ]
    }
   ],
   "source": [
    "num_classes = 3\n",
    "from tensorflow.keras.models import Model\n",
    "from tensorflow.keras.layers import Input, Conv1D, MaxPooling1D, LSTM, Dense, Flatten, Dropout\n",
    "from tensorflow.keras.optimizers import Adam\n",
    "\n",
    "input_layer = Input(shape=(20, 6))\n",
    "\n",
    "# CNN 레이어\n",
    "cnn = Conv1D(filters=64, kernel_size=3, activation='relu')(input_layer)\n",
    "cnn = MaxPooling1D(pool_size=2)(cnn)\n",
    "cnn = Conv1D(filters=128, kernel_size=3, activation='relu')(cnn)\n",
    "cnn = MaxPooling1D(pool_size=2)(cnn)\n",
    "cnn = Conv1D(filters=64, kernel_size=3, activation='relu')(cnn)\n",
    "\n",
    "\n",
    "# LSTM 층\n",
    "lst = LSTM(50)(cnn)  \n",
    "lst = Dropout(0.3)(lst)\n",
    "\n",
    "# Dense 층\n",
    "dd = Dense(50, activation='relu')(lst)\n",
    "dd = Dropout(0.3)(dd)\n",
    "\n",
    "# 출력 층\n",
    "outputs = Dense(3, activation='softmax')(dd)\n",
    "\n",
    "model = Model(inputs=input_layer, outputs=outputs)\n",
    "\n",
    "optimizer = Adam(learning_rate=0.001)\n",
    "\n",
    "model.compile(optimizer=optimizer, loss='sparse_categorical_crossentropy', metrics=['accuracy', MulticlassF1Score(num_classes)])\n",
    "\n",
    "model.summary()"
   ]
  },
  {
   "cell_type": "code",
   "execution_count": 21,
   "metadata": {},
   "outputs": [
    {
     "name": "stdout",
     "output_type": "stream",
     "text": [
      "Epoch 1/30\n",
      "10530/10530 [==============================] - ETA: 0s - loss: 0.3202 - accuracy: 0.4466 - multiclass_f1_score: 0.3290"
     ]
    },
    {
     "name": "stderr",
     "output_type": "stream",
     "text": [
      "/home/zero/.local/lib/python3.10/site-packages/keras/src/engine/training.py:2620: UserWarning: Metric MulticlassF1Score implements a `reset_states()` method; rename it to `reset_state()` (without the final \"s\"). The name `reset_states()` has been deprecated to improve API consistency.\n",
      "  m.reset_state()\n"
     ]
    },
    {
     "name": "stdout",
     "output_type": "stream",
     "text": [
      "\n",
      "Epoch 1: saving model to /home/zero/test1/one_preprocess_4(model)/model_epoch_01_val_accuracy_0.65\n",
      "INFO:tensorflow:Assets written to: /home/zero/test1/one_preprocess_4(model)/model_epoch_01_val_accuracy_0.65/assets\n"
     ]
    },
    {
     "name": "stderr",
     "output_type": "stream",
     "text": [
      "INFO:tensorflow:Assets written to: /home/zero/test1/one_preprocess_4(model)/model_epoch_01_val_accuracy_0.65/assets\n"
     ]
    },
    {
     "name": "stdout",
     "output_type": "stream",
     "text": [
      "10530/10530 [==============================] - 112s 10ms/step - loss: 0.3202 - accuracy: 0.4466 - multiclass_f1_score: 0.3290 - val_loss: 0.8454 - val_accuracy: 0.6462 - val_multiclass_f1_score: 0.4195\n",
      "Epoch 2/30\n",
      "   12/10530 [..............................] - ETA: 1:49 - loss: 0.3165 - accuracy: 0.4564 - multiclass_f1_score: 0.3225"
     ]
    },
    {
     "name": "stderr",
     "output_type": "stream",
     "text": [
      "/home/zero/.local/lib/python3.10/site-packages/keras/src/engine/training.py:2620: UserWarning: Metric MulticlassF1Score implements a `reset_states()` method; rename it to `reset_state()` (without the final \"s\"). The name `reset_states()` has been deprecated to improve API consistency.\n",
      "  m.reset_state()\n"
     ]
    },
    {
     "name": "stdout",
     "output_type": "stream",
     "text": [
      "10528/10530 [============================>.] - ETA: 0s - loss: 0.3194 - accuracy: 0.4498 - multiclass_f1_score: 0.3289\n",
      "Epoch 2: saving model to /home/zero/test1/one_preprocess_4(model)/model_epoch_02_val_accuracy_0.64\n",
      "INFO:tensorflow:Assets written to: /home/zero/test1/one_preprocess_4(model)/model_epoch_02_val_accuracy_0.64/assets\n"
     ]
    },
    {
     "name": "stderr",
     "output_type": "stream",
     "text": [
      "INFO:tensorflow:Assets written to: /home/zero/test1/one_preprocess_4(model)/model_epoch_02_val_accuracy_0.64/assets\n"
     ]
    },
    {
     "name": "stdout",
     "output_type": "stream",
     "text": [
      "10530/10530 [==============================] - 116s 11ms/step - loss: 0.3194 - accuracy: 0.4498 - multiclass_f1_score: 0.3289 - val_loss: 0.8369 - val_accuracy: 0.6390 - val_multiclass_f1_score: 0.4273\n",
      "Epoch 3/30\n",
      "   13/10530 [..............................] - ETA: 1:33 - loss: 0.3219 - accuracy: 0.4297 - multiclass_f1_score: 0.3277"
     ]
    },
    {
     "name": "stderr",
     "output_type": "stream",
     "text": [
      "/home/zero/.local/lib/python3.10/site-packages/keras/src/engine/training.py:2620: UserWarning: Metric MulticlassF1Score implements a `reset_states()` method; rename it to `reset_state()` (without the final \"s\"). The name `reset_states()` has been deprecated to improve API consistency.\n",
      "  m.reset_state()\n"
     ]
    },
    {
     "name": "stdout",
     "output_type": "stream",
     "text": [
      "10528/10530 [============================>.] - ETA: 0s - loss: 0.3191 - accuracy: 0.4501 - multiclass_f1_score: 0.3286\n",
      "Epoch 3: saving model to /home/zero/test1/one_preprocess_4(model)/model_epoch_03_val_accuracy_0.64\n",
      "INFO:tensorflow:Assets written to: /home/zero/test1/one_preprocess_4(model)/model_epoch_03_val_accuracy_0.64/assets\n"
     ]
    },
    {
     "name": "stderr",
     "output_type": "stream",
     "text": [
      "INFO:tensorflow:Assets written to: /home/zero/test1/one_preprocess_4(model)/model_epoch_03_val_accuracy_0.64/assets\n"
     ]
    },
    {
     "name": "stdout",
     "output_type": "stream",
     "text": [
      "10530/10530 [==============================] - 114s 11ms/step - loss: 0.3191 - accuracy: 0.4501 - multiclass_f1_score: 0.3286 - val_loss: 0.8783 - val_accuracy: 0.6442 - val_multiclass_f1_score: 0.4220\n",
      "Epoch 4/30\n",
      "   14/10530 [..............................] - ETA: 1:26 - loss: 0.3172 - accuracy: 0.4799 - multiclass_f1_score: 0.3215"
     ]
    },
    {
     "name": "stderr",
     "output_type": "stream",
     "text": [
      "/home/zero/.local/lib/python3.10/site-packages/keras/src/engine/training.py:2620: UserWarning: Metric MulticlassF1Score implements a `reset_states()` method; rename it to `reset_state()` (without the final \"s\"). The name `reset_states()` has been deprecated to improve API consistency.\n",
      "  m.reset_state()\n"
     ]
    },
    {
     "name": "stdout",
     "output_type": "stream",
     "text": [
      "10525/10530 [============================>.] - ETA: 0s - loss: 0.3190 - accuracy: 0.4503 - multiclass_f1_score: 0.3285\n",
      "Epoch 4: saving model to /home/zero/test1/one_preprocess_4(model)/model_epoch_04_val_accuracy_0.64\n",
      "INFO:tensorflow:Assets written to: /home/zero/test1/one_preprocess_4(model)/model_epoch_04_val_accuracy_0.64/assets\n"
     ]
    },
    {
     "name": "stderr",
     "output_type": "stream",
     "text": [
      "INFO:tensorflow:Assets written to: /home/zero/test1/one_preprocess_4(model)/model_epoch_04_val_accuracy_0.64/assets\n"
     ]
    },
    {
     "name": "stdout",
     "output_type": "stream",
     "text": [
      "10530/10530 [==============================] - 113s 11ms/step - loss: 0.3190 - accuracy: 0.4502 - multiclass_f1_score: 0.3285 - val_loss: 0.8518 - val_accuracy: 0.6386 - val_multiclass_f1_score: 0.4250\n",
      "Epoch 5/30\n",
      "   14/10530 [..............................] - ETA: 1:30 - loss: 0.3166 - accuracy: 0.4643 - multiclass_f1_score: 0.3280"
     ]
    },
    {
     "name": "stderr",
     "output_type": "stream",
     "text": [
      "/home/zero/.local/lib/python3.10/site-packages/keras/src/engine/training.py:2620: UserWarning: Metric MulticlassF1Score implements a `reset_states()` method; rename it to `reset_state()` (without the final \"s\"). The name `reset_states()` has been deprecated to improve API consistency.\n",
      "  m.reset_state()\n"
     ]
    },
    {
     "name": "stdout",
     "output_type": "stream",
     "text": [
      "10527/10530 [============================>.] - ETA: 0s - loss: 0.3189 - accuracy: 0.4507 - multiclass_f1_score: 0.3281\n",
      "Epoch 5: saving model to /home/zero/test1/one_preprocess_4(model)/model_epoch_05_val_accuracy_0.64\n",
      "INFO:tensorflow:Assets written to: /home/zero/test1/one_preprocess_4(model)/model_epoch_05_val_accuracy_0.64/assets\n"
     ]
    },
    {
     "name": "stderr",
     "output_type": "stream",
     "text": [
      "INFO:tensorflow:Assets written to: /home/zero/test1/one_preprocess_4(model)/model_epoch_05_val_accuracy_0.64/assets\n"
     ]
    },
    {
     "name": "stdout",
     "output_type": "stream",
     "text": [
      "10530/10530 [==============================] - 115s 11ms/step - loss: 0.3189 - accuracy: 0.4507 - multiclass_f1_score: 0.3281 - val_loss: 0.8480 - val_accuracy: 0.6377 - val_multiclass_f1_score: 0.4287\n",
      "Epoch 6/30\n",
      "   13/10530 [..............................] - ETA: 1:36 - loss: 0.3191 - accuracy: 0.4573 - multiclass_f1_score: 0.3282"
     ]
    },
    {
     "name": "stderr",
     "output_type": "stream",
     "text": [
      "/home/zero/.local/lib/python3.10/site-packages/keras/src/engine/training.py:2620: UserWarning: Metric MulticlassF1Score implements a `reset_states()` method; rename it to `reset_state()` (without the final \"s\"). The name `reset_states()` has been deprecated to improve API consistency.\n",
      "  m.reset_state()\n"
     ]
    },
    {
     "name": "stdout",
     "output_type": "stream",
     "text": [
      "10526/10530 [============================>.] - ETA: 0s - loss: 0.3188 - accuracy: 0.4505 - multiclass_f1_score: 0.3281\n",
      "Epoch 6: saving model to /home/zero/test1/one_preprocess_4(model)/model_epoch_06_val_accuracy_0.64\n",
      "INFO:tensorflow:Assets written to: /home/zero/test1/one_preprocess_4(model)/model_epoch_06_val_accuracy_0.64/assets\n"
     ]
    },
    {
     "name": "stderr",
     "output_type": "stream",
     "text": [
      "INFO:tensorflow:Assets written to: /home/zero/test1/one_preprocess_4(model)/model_epoch_06_val_accuracy_0.64/assets\n"
     ]
    },
    {
     "name": "stdout",
     "output_type": "stream",
     "text": [
      "10530/10530 [==============================] - 114s 11ms/step - loss: 0.3188 - accuracy: 0.4505 - multiclass_f1_score: 0.3281 - val_loss: 0.8367 - val_accuracy: 0.6434 - val_multiclass_f1_score: 0.4240\n",
      "Epoch 7/30\n",
      "   13/10530 [..............................] - ETA: 1:37 - loss: 0.3192 - accuracy: 0.4363 - multiclass_f1_score: 0.3267"
     ]
    },
    {
     "name": "stderr",
     "output_type": "stream",
     "text": [
      "/home/zero/.local/lib/python3.10/site-packages/keras/src/engine/training.py:2620: UserWarning: Metric MulticlassF1Score implements a `reset_states()` method; rename it to `reset_state()` (without the final \"s\"). The name `reset_states()` has been deprecated to improve API consistency.\n",
      "  m.reset_state()\n"
     ]
    },
    {
     "name": "stdout",
     "output_type": "stream",
     "text": [
      "10526/10530 [============================>.] - ETA: 0s - loss: 0.3186 - accuracy: 0.4508 - multiclass_f1_score: 0.3280\n",
      "Epoch 7: saving model to /home/zero/test1/one_preprocess_4(model)/model_epoch_07_val_accuracy_0.64\n",
      "INFO:tensorflow:Assets written to: /home/zero/test1/one_preprocess_4(model)/model_epoch_07_val_accuracy_0.64/assets\n"
     ]
    },
    {
     "name": "stderr",
     "output_type": "stream",
     "text": [
      "INFO:tensorflow:Assets written to: /home/zero/test1/one_preprocess_4(model)/model_epoch_07_val_accuracy_0.64/assets\n"
     ]
    },
    {
     "name": "stdout",
     "output_type": "stream",
     "text": [
      "10530/10530 [==============================] - 114s 11ms/step - loss: 0.3186 - accuracy: 0.4508 - multiclass_f1_score: 0.3280 - val_loss: 0.8431 - val_accuracy: 0.6394 - val_multiclass_f1_score: 0.4278\n",
      "Epoch 8/30\n",
      "   13/10530 [..............................] - ETA: 1:38 - loss: 0.3091 - accuracy: 0.4886 - multiclass_f1_score: 0.3283"
     ]
    },
    {
     "name": "stderr",
     "output_type": "stream",
     "text": [
      "/home/zero/.local/lib/python3.10/site-packages/keras/src/engine/training.py:2620: UserWarning: Metric MulticlassF1Score implements a `reset_states()` method; rename it to `reset_state()` (without the final \"s\"). The name `reset_states()` has been deprecated to improve API consistency.\n",
      "  m.reset_state()\n"
     ]
    },
    {
     "name": "stdout",
     "output_type": "stream",
     "text": [
      "10526/10530 [============================>.] - ETA: 0s - loss: 0.3186 - accuracy: 0.4512 - multiclass_f1_score: 0.3280\n",
      "Epoch 8: saving model to /home/zero/test1/one_preprocess_4(model)/model_epoch_08_val_accuracy_0.63\n",
      "INFO:tensorflow:Assets written to: /home/zero/test1/one_preprocess_4(model)/model_epoch_08_val_accuracy_0.63/assets\n"
     ]
    },
    {
     "name": "stderr",
     "output_type": "stream",
     "text": [
      "INFO:tensorflow:Assets written to: /home/zero/test1/one_preprocess_4(model)/model_epoch_08_val_accuracy_0.63/assets\n"
     ]
    },
    {
     "name": "stdout",
     "output_type": "stream",
     "text": [
      "10530/10530 [==============================] - 113s 11ms/step - loss: 0.3186 - accuracy: 0.4512 - multiclass_f1_score: 0.3280 - val_loss: 0.8668 - val_accuracy: 0.6313 - val_multiclass_f1_score: 0.4290\n",
      "Epoch 9/30\n",
      "   14/10530 [..............................] - ETA: 1:25 - loss: 0.3163 - accuracy: 0.4715 - multiclass_f1_score: 0.3271"
     ]
    },
    {
     "name": "stderr",
     "output_type": "stream",
     "text": [
      "/home/zero/.local/lib/python3.10/site-packages/keras/src/engine/training.py:2620: UserWarning: Metric MulticlassF1Score implements a `reset_states()` method; rename it to `reset_state()` (without the final \"s\"). The name `reset_states()` has been deprecated to improve API consistency.\n",
      "  m.reset_state()\n"
     ]
    },
    {
     "name": "stdout",
     "output_type": "stream",
     "text": [
      "10524/10530 [============================>.] - ETA: 0s - loss: 0.3185 - accuracy: 0.4514 - multiclass_f1_score: 0.3277\n",
      "Epoch 9: saving model to /home/zero/test1/one_preprocess_4(model)/model_epoch_09_val_accuracy_0.63\n",
      "INFO:tensorflow:Assets written to: /home/zero/test1/one_preprocess_4(model)/model_epoch_09_val_accuracy_0.63/assets\n"
     ]
    },
    {
     "name": "stderr",
     "output_type": "stream",
     "text": [
      "INFO:tensorflow:Assets written to: /home/zero/test1/one_preprocess_4(model)/model_epoch_09_val_accuracy_0.63/assets\n"
     ]
    },
    {
     "name": "stdout",
     "output_type": "stream",
     "text": [
      "10530/10530 [==============================] - 110s 10ms/step - loss: 0.3185 - accuracy: 0.4514 - multiclass_f1_score: 0.3277 - val_loss: 0.8366 - val_accuracy: 0.6339 - val_multiclass_f1_score: 0.4249\n",
      "Epoch 10/30\n",
      "   14/10530 [..............................] - ETA: 1:33 - loss: 0.3166 - accuracy: 0.4515 - multiclass_f1_score: 0.3213"
     ]
    },
    {
     "name": "stderr",
     "output_type": "stream",
     "text": [
      "/home/zero/.local/lib/python3.10/site-packages/keras/src/engine/training.py:2620: UserWarning: Metric MulticlassF1Score implements a `reset_states()` method; rename it to `reset_state()` (without the final \"s\"). The name `reset_states()` has been deprecated to improve API consistency.\n",
      "  m.reset_state()\n"
     ]
    },
    {
     "name": "stdout",
     "output_type": "stream",
     "text": [
      "10529/10530 [============================>.] - ETA: 0s - loss: 0.3184 - accuracy: 0.4516 - multiclass_f1_score: 0.3277\n",
      "Epoch 10: saving model to /home/zero/test1/one_preprocess_4(model)/model_epoch_10_val_accuracy_0.63\n",
      "INFO:tensorflow:Assets written to: /home/zero/test1/one_preprocess_4(model)/model_epoch_10_val_accuracy_0.63/assets\n"
     ]
    },
    {
     "name": "stderr",
     "output_type": "stream",
     "text": [
      "INFO:tensorflow:Assets written to: /home/zero/test1/one_preprocess_4(model)/model_epoch_10_val_accuracy_0.63/assets\n"
     ]
    },
    {
     "name": "stdout",
     "output_type": "stream",
     "text": [
      "10530/10530 [==============================] - 112s 11ms/step - loss: 0.3184 - accuracy: 0.4516 - multiclass_f1_score: 0.3277 - val_loss: 0.8409 - val_accuracy: 0.6296 - val_multiclass_f1_score: 0.4283\n",
      "Epoch 11/30\n",
      "   12/10530 [..............................] - ETA: 1:39 - loss: 0.3195 - accuracy: 0.4460 - multiclass_f1_score: 0.3207"
     ]
    },
    {
     "name": "stderr",
     "output_type": "stream",
     "text": [
      "/home/zero/.local/lib/python3.10/site-packages/keras/src/engine/training.py:2620: UserWarning: Metric MulticlassF1Score implements a `reset_states()` method; rename it to `reset_state()` (without the final \"s\"). The name `reset_states()` has been deprecated to improve API consistency.\n",
      "  m.reset_state()\n"
     ]
    },
    {
     "name": "stdout",
     "output_type": "stream",
     "text": [
      "10530/10530 [==============================] - ETA: 0s - loss: 0.3183 - accuracy: 0.4517 - multiclass_f1_score: 0.3277\n",
      "Epoch 11: saving model to /home/zero/test1/one_preprocess_4(model)/model_epoch_11_val_accuracy_0.64\n",
      "INFO:tensorflow:Assets written to: /home/zero/test1/one_preprocess_4(model)/model_epoch_11_val_accuracy_0.64/assets\n"
     ]
    },
    {
     "name": "stderr",
     "output_type": "stream",
     "text": [
      "INFO:tensorflow:Assets written to: /home/zero/test1/one_preprocess_4(model)/model_epoch_11_val_accuracy_0.64/assets\n"
     ]
    },
    {
     "name": "stdout",
     "output_type": "stream",
     "text": [
      "10530/10530 [==============================] - 111s 11ms/step - loss: 0.3183 - accuracy: 0.4517 - multiclass_f1_score: 0.3277 - val_loss: 0.8354 - val_accuracy: 0.6404 - val_multiclass_f1_score: 0.4256\n",
      "Epoch 12/30\n",
      "   13/10530 [..............................] - ETA: 1:39 - loss: 0.3217 - accuracy: 0.4471 - multiclass_f1_score: 0.3234"
     ]
    },
    {
     "name": "stderr",
     "output_type": "stream",
     "text": [
      "/home/zero/.local/lib/python3.10/site-packages/keras/src/engine/training.py:2620: UserWarning: Metric MulticlassF1Score implements a `reset_states()` method; rename it to `reset_state()` (without the final \"s\"). The name `reset_states()` has been deprecated to improve API consistency.\n",
      "  m.reset_state()\n"
     ]
    },
    {
     "name": "stdout",
     "output_type": "stream",
     "text": [
      "10526/10530 [============================>.] - ETA: 0s - loss: 0.3182 - accuracy: 0.4528 - multiclass_f1_score: 0.3278\n",
      "Epoch 12: saving model to /home/zero/test1/one_preprocess_4(model)/model_epoch_12_val_accuracy_0.64\n",
      "INFO:tensorflow:Assets written to: /home/zero/test1/one_preprocess_4(model)/model_epoch_12_val_accuracy_0.64/assets\n"
     ]
    },
    {
     "name": "stderr",
     "output_type": "stream",
     "text": [
      "INFO:tensorflow:Assets written to: /home/zero/test1/one_preprocess_4(model)/model_epoch_12_val_accuracy_0.64/assets\n"
     ]
    },
    {
     "name": "stdout",
     "output_type": "stream",
     "text": [
      "10530/10530 [==============================] - 111s 10ms/step - loss: 0.3182 - accuracy: 0.4528 - multiclass_f1_score: 0.3278 - val_loss: 0.8475 - val_accuracy: 0.6365 - val_multiclass_f1_score: 0.4253\n",
      "Epoch 13/30\n",
      "   12/10530 [..............................] - ETA: 1:39 - loss: 0.3126 - accuracy: 0.4727 - multiclass_f1_score: 0.3270"
     ]
    },
    {
     "name": "stderr",
     "output_type": "stream",
     "text": [
      "/home/zero/.local/lib/python3.10/site-packages/keras/src/engine/training.py:2620: UserWarning: Metric MulticlassF1Score implements a `reset_states()` method; rename it to `reset_state()` (without the final \"s\"). The name `reset_states()` has been deprecated to improve API consistency.\n",
      "  m.reset_state()\n"
     ]
    },
    {
     "name": "stdout",
     "output_type": "stream",
     "text": [
      "10525/10530 [============================>.] - ETA: 0s - loss: 0.3182 - accuracy: 0.4524 - multiclass_f1_score: 0.3275\n",
      "Epoch 13: saving model to /home/zero/test1/one_preprocess_4(model)/model_epoch_13_val_accuracy_0.63\n",
      "INFO:tensorflow:Assets written to: /home/zero/test1/one_preprocess_4(model)/model_epoch_13_val_accuracy_0.63/assets\n"
     ]
    },
    {
     "name": "stderr",
     "output_type": "stream",
     "text": [
      "INFO:tensorflow:Assets written to: /home/zero/test1/one_preprocess_4(model)/model_epoch_13_val_accuracy_0.63/assets\n"
     ]
    },
    {
     "name": "stdout",
     "output_type": "stream",
     "text": [
      "10530/10530 [==============================] - 108s 10ms/step - loss: 0.3182 - accuracy: 0.4524 - multiclass_f1_score: 0.3275 - val_loss: 0.8389 - val_accuracy: 0.6322 - val_multiclass_f1_score: 0.4221\n",
      "Epoch 14/30\n",
      "   14/10530 [..............................] - ETA: 1:25 - loss: 0.3158 - accuracy: 0.4481 - multiclass_f1_score: 0.3173"
     ]
    },
    {
     "name": "stderr",
     "output_type": "stream",
     "text": [
      "/home/zero/.local/lib/python3.10/site-packages/keras/src/engine/training.py:2620: UserWarning: Metric MulticlassF1Score implements a `reset_states()` method; rename it to `reset_state()` (without the final \"s\"). The name `reset_states()` has been deprecated to improve API consistency.\n",
      "  m.reset_state()\n"
     ]
    },
    {
     "name": "stdout",
     "output_type": "stream",
     "text": [
      "10528/10530 [============================>.] - ETA: 0s - loss: 0.3181 - accuracy: 0.4519 - multiclass_f1_score: 0.3274\n",
      "Epoch 14: saving model to /home/zero/test1/one_preprocess_4(model)/model_epoch_14_val_accuracy_0.63\n",
      "INFO:tensorflow:Assets written to: /home/zero/test1/one_preprocess_4(model)/model_epoch_14_val_accuracy_0.63/assets\n"
     ]
    },
    {
     "name": "stderr",
     "output_type": "stream",
     "text": [
      "INFO:tensorflow:Assets written to: /home/zero/test1/one_preprocess_4(model)/model_epoch_14_val_accuracy_0.63/assets\n"
     ]
    },
    {
     "name": "stdout",
     "output_type": "stream",
     "text": [
      "10530/10530 [==============================] - 112s 11ms/step - loss: 0.3181 - accuracy: 0.4519 - multiclass_f1_score: 0.3274 - val_loss: 0.8419 - val_accuracy: 0.6325 - val_multiclass_f1_score: 0.4294\n",
      "Epoch 15/30\n",
      "   12/10530 [..............................] - ETA: 1:45 - loss: 0.3199 - accuracy: 0.4414 - multiclass_f1_score: 0.3270"
     ]
    },
    {
     "name": "stderr",
     "output_type": "stream",
     "text": [
      "/home/zero/.local/lib/python3.10/site-packages/keras/src/engine/training.py:2620: UserWarning: Metric MulticlassF1Score implements a `reset_states()` method; rename it to `reset_state()` (without the final \"s\"). The name `reset_states()` has been deprecated to improve API consistency.\n",
      "  m.reset_state()\n"
     ]
    },
    {
     "name": "stdout",
     "output_type": "stream",
     "text": [
      "10530/10530 [==============================] - ETA: 0s - loss: 0.3180 - accuracy: 0.4529 - multiclass_f1_score: 0.3275\n",
      "Epoch 15: saving model to /home/zero/test1/one_preprocess_4(model)/model_epoch_15_val_accuracy_0.64\n",
      "INFO:tensorflow:Assets written to: /home/zero/test1/one_preprocess_4(model)/model_epoch_15_val_accuracy_0.64/assets\n"
     ]
    },
    {
     "name": "stderr",
     "output_type": "stream",
     "text": [
      "INFO:tensorflow:Assets written to: /home/zero/test1/one_preprocess_4(model)/model_epoch_15_val_accuracy_0.64/assets\n"
     ]
    },
    {
     "name": "stdout",
     "output_type": "stream",
     "text": [
      "10530/10530 [==============================] - 112s 11ms/step - loss: 0.3180 - accuracy: 0.4529 - multiclass_f1_score: 0.3275 - val_loss: 0.8456 - val_accuracy: 0.6384 - val_multiclass_f1_score: 0.4275\n",
      "Epoch 16/30\n",
      "   11/10530 [..............................] - ETA: 1:54 - loss: 0.3178 - accuracy: 0.4446 - multiclass_f1_score: 0.3291"
     ]
    },
    {
     "name": "stderr",
     "output_type": "stream",
     "text": [
      "/home/zero/.local/lib/python3.10/site-packages/keras/src/engine/training.py:2620: UserWarning: Metric MulticlassF1Score implements a `reset_states()` method; rename it to `reset_state()` (without the final \"s\"). The name `reset_states()` has been deprecated to improve API consistency.\n",
      "  m.reset_state()\n"
     ]
    },
    {
     "name": "stdout",
     "output_type": "stream",
     "text": [
      "10527/10530 [============================>.] - ETA: 0s - loss: 0.3179 - accuracy: 0.4535 - multiclass_f1_score: 0.3275\n",
      "Epoch 16: saving model to /home/zero/test1/one_preprocess_4(model)/model_epoch_16_val_accuracy_0.63\n",
      "INFO:tensorflow:Assets written to: /home/zero/test1/one_preprocess_4(model)/model_epoch_16_val_accuracy_0.63/assets\n"
     ]
    },
    {
     "name": "stderr",
     "output_type": "stream",
     "text": [
      "INFO:tensorflow:Assets written to: /home/zero/test1/one_preprocess_4(model)/model_epoch_16_val_accuracy_0.63/assets\n"
     ]
    },
    {
     "name": "stdout",
     "output_type": "stream",
     "text": [
      "10530/10530 [==============================] - 110s 10ms/step - loss: 0.3179 - accuracy: 0.4535 - multiclass_f1_score: 0.3275 - val_loss: 0.8562 - val_accuracy: 0.6298 - val_multiclass_f1_score: 0.4271\n",
      "Epoch 17/30\n",
      "   12/10530 [..............................] - ETA: 1:41 - loss: 0.3156 - accuracy: 0.4538 - multiclass_f1_score: 0.3208"
     ]
    },
    {
     "name": "stderr",
     "output_type": "stream",
     "text": [
      "/home/zero/.local/lib/python3.10/site-packages/keras/src/engine/training.py:2620: UserWarning: Metric MulticlassF1Score implements a `reset_states()` method; rename it to `reset_state()` (without the final \"s\"). The name `reset_states()` has been deprecated to improve API consistency.\n",
      "  m.reset_state()\n"
     ]
    },
    {
     "name": "stdout",
     "output_type": "stream",
     "text": [
      "10527/10530 [============================>.] - ETA: 0s - loss: 0.3179 - accuracy: 0.4528 - multiclass_f1_score: 0.3272\n",
      "Epoch 17: saving model to /home/zero/test1/one_preprocess_4(model)/model_epoch_17_val_accuracy_0.63\n",
      "INFO:tensorflow:Assets written to: /home/zero/test1/one_preprocess_4(model)/model_epoch_17_val_accuracy_0.63/assets\n"
     ]
    },
    {
     "name": "stderr",
     "output_type": "stream",
     "text": [
      "INFO:tensorflow:Assets written to: /home/zero/test1/one_preprocess_4(model)/model_epoch_17_val_accuracy_0.63/assets\n"
     ]
    },
    {
     "name": "stdout",
     "output_type": "stream",
     "text": [
      "10530/10530 [==============================] - 110s 10ms/step - loss: 0.3179 - accuracy: 0.4528 - multiclass_f1_score: 0.3272 - val_loss: 0.8571 - val_accuracy: 0.6333 - val_multiclass_f1_score: 0.4288\n",
      "Epoch 18/30\n",
      "   13/10530 [..............................] - ETA: 1:42 - loss: 0.3169 - accuracy: 0.4561 - multiclass_f1_score: 0.3293"
     ]
    },
    {
     "name": "stderr",
     "output_type": "stream",
     "text": [
      "/home/zero/.local/lib/python3.10/site-packages/keras/src/engine/training.py:2620: UserWarning: Metric MulticlassF1Score implements a `reset_states()` method; rename it to `reset_state()` (without the final \"s\"). The name `reset_states()` has been deprecated to improve API consistency.\n",
      "  m.reset_state()\n"
     ]
    },
    {
     "name": "stdout",
     "output_type": "stream",
     "text": [
      "10526/10530 [============================>.] - ETA: 0s - loss: 0.3178 - accuracy: 0.4529 - multiclass_f1_score: 0.3271\n",
      "Epoch 18: saving model to /home/zero/test1/one_preprocess_4(model)/model_epoch_18_val_accuracy_0.64\n",
      "INFO:tensorflow:Assets written to: /home/zero/test1/one_preprocess_4(model)/model_epoch_18_val_accuracy_0.64/assets\n"
     ]
    },
    {
     "name": "stderr",
     "output_type": "stream",
     "text": [
      "INFO:tensorflow:Assets written to: /home/zero/test1/one_preprocess_4(model)/model_epoch_18_val_accuracy_0.64/assets\n"
     ]
    },
    {
     "name": "stdout",
     "output_type": "stream",
     "text": [
      "10530/10530 [==============================] - 110s 10ms/step - loss: 0.3178 - accuracy: 0.4528 - multiclass_f1_score: 0.3271 - val_loss: 0.8334 - val_accuracy: 0.6352 - val_multiclass_f1_score: 0.4289\n",
      "Epoch 19/30\n",
      "   13/10530 [..............................] - ETA: 1:28 - loss: 0.3156 - accuracy: 0.4513 - multiclass_f1_score: 0.3226"
     ]
    },
    {
     "name": "stderr",
     "output_type": "stream",
     "text": [
      "/home/zero/.local/lib/python3.10/site-packages/keras/src/engine/training.py:2620: UserWarning: Metric MulticlassF1Score implements a `reset_states()` method; rename it to `reset_state()` (without the final \"s\"). The name `reset_states()` has been deprecated to improve API consistency.\n",
      "  m.reset_state()\n"
     ]
    },
    {
     "name": "stdout",
     "output_type": "stream",
     "text": [
      "10526/10530 [============================>.] - ETA: 0s - loss: 0.3177 - accuracy: 0.4537 - multiclass_f1_score: 0.3271\n",
      "Epoch 19: saving model to /home/zero/test1/one_preprocess_4(model)/model_epoch_19_val_accuracy_0.64\n",
      "INFO:tensorflow:Assets written to: /home/zero/test1/one_preprocess_4(model)/model_epoch_19_val_accuracy_0.64/assets\n"
     ]
    },
    {
     "name": "stderr",
     "output_type": "stream",
     "text": [
      "INFO:tensorflow:Assets written to: /home/zero/test1/one_preprocess_4(model)/model_epoch_19_val_accuracy_0.64/assets\n"
     ]
    },
    {
     "name": "stdout",
     "output_type": "stream",
     "text": [
      "10530/10530 [==============================] - 112s 11ms/step - loss: 0.3177 - accuracy: 0.4537 - multiclass_f1_score: 0.3271 - val_loss: 0.8457 - val_accuracy: 0.6368 - val_multiclass_f1_score: 0.4228\n",
      "Epoch 20/30\n",
      "   15/10530 [..............................] - ETA: 1:22 - loss: 0.3171 - accuracy: 0.4583 - multiclass_f1_score: 0.3239"
     ]
    },
    {
     "name": "stderr",
     "output_type": "stream",
     "text": [
      "/home/zero/.local/lib/python3.10/site-packages/keras/src/engine/training.py:2620: UserWarning: Metric MulticlassF1Score implements a `reset_states()` method; rename it to `reset_state()` (without the final \"s\"). The name `reset_states()` has been deprecated to improve API consistency.\n",
      "  m.reset_state()\n"
     ]
    },
    {
     "name": "stdout",
     "output_type": "stream",
     "text": [
      "10529/10530 [============================>.] - ETA: 0s - loss: 0.3177 - accuracy: 0.4534 - multiclass_f1_score: 0.3269\n",
      "Epoch 20: saving model to /home/zero/test1/one_preprocess_4(model)/model_epoch_20_val_accuracy_0.63\n",
      "INFO:tensorflow:Assets written to: /home/zero/test1/one_preprocess_4(model)/model_epoch_20_val_accuracy_0.63/assets\n"
     ]
    },
    {
     "name": "stderr",
     "output_type": "stream",
     "text": [
      "INFO:tensorflow:Assets written to: /home/zero/test1/one_preprocess_4(model)/model_epoch_20_val_accuracy_0.63/assets\n"
     ]
    },
    {
     "name": "stdout",
     "output_type": "stream",
     "text": [
      "10530/10530 [==============================] - 112s 11ms/step - loss: 0.3177 - accuracy: 0.4534 - multiclass_f1_score: 0.3269 - val_loss: 0.8480 - val_accuracy: 0.6283 - val_multiclass_f1_score: 0.4300\n",
      "Epoch 21/30\n",
      "   13/10530 [..............................] - ETA: 1:38 - loss: 0.3228 - accuracy: 0.4447 - multiclass_f1_score: 0.3287"
     ]
    },
    {
     "name": "stderr",
     "output_type": "stream",
     "text": [
      "/home/zero/.local/lib/python3.10/site-packages/keras/src/engine/training.py:2620: UserWarning: Metric MulticlassF1Score implements a `reset_states()` method; rename it to `reset_state()` (without the final \"s\"). The name `reset_states()` has been deprecated to improve API consistency.\n",
      "  m.reset_state()\n"
     ]
    },
    {
     "name": "stdout",
     "output_type": "stream",
     "text": [
      "10528/10530 [============================>.] - ETA: 0s - loss: 0.3176 - accuracy: 0.4535 - multiclass_f1_score: 0.3271\n",
      "Epoch 21: saving model to /home/zero/test1/one_preprocess_4(model)/model_epoch_21_val_accuracy_0.64\n",
      "INFO:tensorflow:Assets written to: /home/zero/test1/one_preprocess_4(model)/model_epoch_21_val_accuracy_0.64/assets\n"
     ]
    },
    {
     "name": "stderr",
     "output_type": "stream",
     "text": [
      "INFO:tensorflow:Assets written to: /home/zero/test1/one_preprocess_4(model)/model_epoch_21_val_accuracy_0.64/assets\n"
     ]
    },
    {
     "name": "stdout",
     "output_type": "stream",
     "text": [
      "10530/10530 [==============================] - 111s 10ms/step - loss: 0.3176 - accuracy: 0.4535 - multiclass_f1_score: 0.3271 - val_loss: 0.8295 - val_accuracy: 0.6416 - val_multiclass_f1_score: 0.4268\n",
      "Epoch 22/30\n",
      "   12/10530 [..............................] - ETA: 1:38 - loss: 0.3163 - accuracy: 0.4453 - multiclass_f1_score: 0.3270"
     ]
    },
    {
     "name": "stderr",
     "output_type": "stream",
     "text": [
      "/home/zero/.local/lib/python3.10/site-packages/keras/src/engine/training.py:2620: UserWarning: Metric MulticlassF1Score implements a `reset_states()` method; rename it to `reset_state()` (without the final \"s\"). The name `reset_states()` has been deprecated to improve API consistency.\n",
      "  m.reset_state()\n"
     ]
    },
    {
     "name": "stdout",
     "output_type": "stream",
     "text": [
      "10528/10530 [============================>.] - ETA: 0s - loss: 0.3175 - accuracy: 0.4534 - multiclass_f1_score: 0.3269\n",
      "Epoch 22: saving model to /home/zero/test1/one_preprocess_4(model)/model_epoch_22_val_accuracy_0.63\n",
      "INFO:tensorflow:Assets written to: /home/zero/test1/one_preprocess_4(model)/model_epoch_22_val_accuracy_0.63/assets\n"
     ]
    },
    {
     "name": "stderr",
     "output_type": "stream",
     "text": [
      "INFO:tensorflow:Assets written to: /home/zero/test1/one_preprocess_4(model)/model_epoch_22_val_accuracy_0.63/assets\n"
     ]
    },
    {
     "name": "stdout",
     "output_type": "stream",
     "text": [
      "10530/10530 [==============================] - 110s 10ms/step - loss: 0.3175 - accuracy: 0.4534 - multiclass_f1_score: 0.3269 - val_loss: 0.8337 - val_accuracy: 0.6327 - val_multiclass_f1_score: 0.4262\n",
      "Epoch 23/30\n",
      "   12/10530 [..............................] - ETA: 1:37 - loss: 0.3169 - accuracy: 0.4603 - multiclass_f1_score: 0.3242"
     ]
    },
    {
     "name": "stderr",
     "output_type": "stream",
     "text": [
      "/home/zero/.local/lib/python3.10/site-packages/keras/src/engine/training.py:2620: UserWarning: Metric MulticlassF1Score implements a `reset_states()` method; rename it to `reset_state()` (without the final \"s\"). The name `reset_states()` has been deprecated to improve API consistency.\n",
      "  m.reset_state()\n"
     ]
    },
    {
     "name": "stdout",
     "output_type": "stream",
     "text": [
      "10524/10530 [============================>.] - ETA: 0s - loss: 0.3175 - accuracy: 0.4537 - multiclass_f1_score: 0.3267\n",
      "Epoch 23: saving model to /home/zero/test1/one_preprocess_4(model)/model_epoch_23_val_accuracy_0.63\n",
      "INFO:tensorflow:Assets written to: /home/zero/test1/one_preprocess_4(model)/model_epoch_23_val_accuracy_0.63/assets\n"
     ]
    },
    {
     "name": "stderr",
     "output_type": "stream",
     "text": [
      "INFO:tensorflow:Assets written to: /home/zero/test1/one_preprocess_4(model)/model_epoch_23_val_accuracy_0.63/assets\n"
     ]
    },
    {
     "name": "stdout",
     "output_type": "stream",
     "text": [
      "10530/10530 [==============================] - 113s 11ms/step - loss: 0.3175 - accuracy: 0.4537 - multiclass_f1_score: 0.3267 - val_loss: 0.8513 - val_accuracy: 0.6340 - val_multiclass_f1_score: 0.4294\n",
      "Epoch 24/30\n",
      "   14/10530 [..............................] - ETA: 1:30 - loss: 0.3165 - accuracy: 0.4576 - multiclass_f1_score: 0.3264"
     ]
    },
    {
     "name": "stderr",
     "output_type": "stream",
     "text": [
      "/home/zero/.local/lib/python3.10/site-packages/keras/src/engine/training.py:2620: UserWarning: Metric MulticlassF1Score implements a `reset_states()` method; rename it to `reset_state()` (without the final \"s\"). The name `reset_states()` has been deprecated to improve API consistency.\n",
      "  m.reset_state()\n"
     ]
    },
    {
     "name": "stdout",
     "output_type": "stream",
     "text": [
      "10525/10530 [============================>.] - ETA: 0s - loss: 0.3174 - accuracy: 0.4542 - multiclass_f1_score: 0.3268\n",
      "Epoch 24: saving model to /home/zero/test1/one_preprocess_4(model)/model_epoch_24_val_accuracy_0.63\n",
      "INFO:tensorflow:Assets written to: /home/zero/test1/one_preprocess_4(model)/model_epoch_24_val_accuracy_0.63/assets\n"
     ]
    },
    {
     "name": "stderr",
     "output_type": "stream",
     "text": [
      "INFO:tensorflow:Assets written to: /home/zero/test1/one_preprocess_4(model)/model_epoch_24_val_accuracy_0.63/assets\n"
     ]
    },
    {
     "name": "stdout",
     "output_type": "stream",
     "text": [
      "10530/10530 [==============================] - 108s 10ms/step - loss: 0.3174 - accuracy: 0.4542 - multiclass_f1_score: 0.3268 - val_loss: 0.8575 - val_accuracy: 0.6307 - val_multiclass_f1_score: 0.4299\n",
      "Epoch 25/30\n",
      "   14/10530 [..............................] - ETA: 1:32 - loss: 0.3181 - accuracy: 0.4464 - multiclass_f1_score: 0.3244"
     ]
    },
    {
     "name": "stderr",
     "output_type": "stream",
     "text": [
      "/home/zero/.local/lib/python3.10/site-packages/keras/src/engine/training.py:2620: UserWarning: Metric MulticlassF1Score implements a `reset_states()` method; rename it to `reset_state()` (without the final \"s\"). The name `reset_states()` has been deprecated to improve API consistency.\n",
      "  m.reset_state()\n"
     ]
    },
    {
     "name": "stdout",
     "output_type": "stream",
     "text": [
      "10526/10530 [============================>.] - ETA: 0s - loss: 0.3174 - accuracy: 0.4544 - multiclass_f1_score: 0.3267\n",
      "Epoch 25: saving model to /home/zero/test1/one_preprocess_4(model)/model_epoch_25_val_accuracy_0.62\n",
      "INFO:tensorflow:Assets written to: /home/zero/test1/one_preprocess_4(model)/model_epoch_25_val_accuracy_0.62/assets\n"
     ]
    },
    {
     "name": "stderr",
     "output_type": "stream",
     "text": [
      "INFO:tensorflow:Assets written to: /home/zero/test1/one_preprocess_4(model)/model_epoch_25_val_accuracy_0.62/assets\n"
     ]
    },
    {
     "name": "stdout",
     "output_type": "stream",
     "text": [
      "10530/10530 [==============================] - 121s 11ms/step - loss: 0.3174 - accuracy: 0.4544 - multiclass_f1_score: 0.3267 - val_loss: 0.8583 - val_accuracy: 0.6242 - val_multiclass_f1_score: 0.4297\n",
      "Epoch 26/30\n",
      "   10/10530 [..............................] - ETA: 2:06 - loss: 0.3192 - accuracy: 0.4500 - multiclass_f1_score: 0.3230"
     ]
    },
    {
     "name": "stderr",
     "output_type": "stream",
     "text": [
      "/home/zero/.local/lib/python3.10/site-packages/keras/src/engine/training.py:2620: UserWarning: Metric MulticlassF1Score implements a `reset_states()` method; rename it to `reset_state()` (without the final \"s\"). The name `reset_states()` has been deprecated to improve API consistency.\n",
      "  m.reset_state()\n"
     ]
    },
    {
     "name": "stdout",
     "output_type": "stream",
     "text": [
      "10528/10530 [============================>.] - ETA: 0s - loss: 0.3173 - accuracy: 0.4542 - multiclass_f1_score: 0.3264\n",
      "Epoch 26: saving model to /home/zero/test1/one_preprocess_4(model)/model_epoch_26_val_accuracy_0.64\n",
      "INFO:tensorflow:Assets written to: /home/zero/test1/one_preprocess_4(model)/model_epoch_26_val_accuracy_0.64/assets\n"
     ]
    },
    {
     "name": "stderr",
     "output_type": "stream",
     "text": [
      "INFO:tensorflow:Assets written to: /home/zero/test1/one_preprocess_4(model)/model_epoch_26_val_accuracy_0.64/assets\n"
     ]
    },
    {
     "name": "stdout",
     "output_type": "stream",
     "text": [
      "10530/10530 [==============================] - 124s 12ms/step - loss: 0.3173 - accuracy: 0.4542 - multiclass_f1_score: 0.3264 - val_loss: 0.8334 - val_accuracy: 0.6382 - val_multiclass_f1_score: 0.4276\n",
      "Epoch 27/30\n",
      "    6/10530 [..............................] - ETA: 2:03 - loss: 0.3267 - accuracy: 0.4440 - multiclass_f1_score: 0.3301"
     ]
    },
    {
     "name": "stderr",
     "output_type": "stream",
     "text": [
      "/home/zero/.local/lib/python3.10/site-packages/keras/src/engine/training.py:2620: UserWarning: Metric MulticlassF1Score implements a `reset_states()` method; rename it to `reset_state()` (without the final \"s\"). The name `reset_states()` has been deprecated to improve API consistency.\n",
      "  m.reset_state()\n"
     ]
    },
    {
     "name": "stdout",
     "output_type": "stream",
     "text": [
      "10529/10530 [============================>.] - ETA: 0s - loss: 0.3172 - accuracy: 0.4543 - multiclass_f1_score: 0.3266\n",
      "Epoch 27: saving model to /home/zero/test1/one_preprocess_4(model)/model_epoch_27_val_accuracy_0.64\n",
      "INFO:tensorflow:Assets written to: /home/zero/test1/one_preprocess_4(model)/model_epoch_27_val_accuracy_0.64/assets\n"
     ]
    },
    {
     "name": "stderr",
     "output_type": "stream",
     "text": [
      "INFO:tensorflow:Assets written to: /home/zero/test1/one_preprocess_4(model)/model_epoch_27_val_accuracy_0.64/assets\n"
     ]
    },
    {
     "name": "stdout",
     "output_type": "stream",
     "text": [
      "10530/10530 [==============================] - 116s 11ms/step - loss: 0.3172 - accuracy: 0.4543 - multiclass_f1_score: 0.3266 - val_loss: 0.8379 - val_accuracy: 0.6358 - val_multiclass_f1_score: 0.4278\n",
      "Epoch 28/30\n",
      "   14/10530 [..............................] - ETA: 1:33 - loss: 0.3200 - accuracy: 0.4531 - multiclass_f1_score: 0.3262"
     ]
    },
    {
     "name": "stderr",
     "output_type": "stream",
     "text": [
      "/home/zero/.local/lib/python3.10/site-packages/keras/src/engine/training.py:2620: UserWarning: Metric MulticlassF1Score implements a `reset_states()` method; rename it to `reset_state()` (without the final \"s\"). The name `reset_states()` has been deprecated to improve API consistency.\n",
      "  m.reset_state()\n"
     ]
    },
    {
     "name": "stdout",
     "output_type": "stream",
     "text": [
      "10528/10530 [============================>.] - ETA: 0s - loss: 0.3172 - accuracy: 0.4540 - multiclass_f1_score: 0.3263Restoring model weights from the end of the best epoch: 21.\n",
      "\n",
      "Epoch 28: saving model to /home/zero/test1/one_preprocess_4(model)/model_epoch_28_val_accuracy_0.63\n",
      "INFO:tensorflow:Assets written to: /home/zero/test1/one_preprocess_4(model)/model_epoch_28_val_accuracy_0.63/assets\n"
     ]
    },
    {
     "name": "stderr",
     "output_type": "stream",
     "text": [
      "INFO:tensorflow:Assets written to: /home/zero/test1/one_preprocess_4(model)/model_epoch_28_val_accuracy_0.63/assets\n"
     ]
    },
    {
     "name": "stdout",
     "output_type": "stream",
     "text": [
      "10530/10530 [==============================] - 121s 11ms/step - loss: 0.3172 - accuracy: 0.4540 - multiclass_f1_score: 0.3263 - val_loss: 0.8339 - val_accuracy: 0.6311 - val_multiclass_f1_score: 0.4284\n",
      "Epoch 28: early stopping\n"
     ]
    }
   ],
   "source": [
    "from tensorflow.keras.callbacks import EarlyStopping\n",
    "from tensorflow.keras.callbacks import ModelCheckpoint\n",
    "\n",
    "model_checkpoint = ModelCheckpoint(\n",
    "    filepath='/home/zero/test1/one_preprocess_4(model)/model_epoch_{epoch:02d}_val_accuracy_{val_accuracy:.2f}',  \n",
    "    monitor='val_accuracy',  \n",
    "    save_best_only=False, \n",
    "    save_weights_only=False, \n",
    "    verbose=1  \n",
    ")\n",
    "\n",
    "# 조기 종료 콜백 설정\n",
    "early_stopping = EarlyStopping(\n",
    "    monitor='val_loss',  \n",
    "    patience=7,         \n",
    "    verbose=1,          \n",
    "    restore_best_weights=True \n",
    ")\n",
    "\n",
    "history = model.fit(\n",
    "    X_train, y_train,\n",
    "    epochs=30,\n",
    "    batch_size=128,\n",
    "    validation_data=(X_test, y_test),\n",
    "    class_weight=class_weights,\n",
    "    callbacks=[early_stopping,model_checkpoint],\n",
    "    verbose=1\n",
    ")"
   ]
  },
  {
   "cell_type": "code",
   "execution_count": 40,
   "metadata": {},
   "outputs": [
    {
     "name": "stdout",
     "output_type": "stream",
     "text": [
      "10530/10530 [==============================] - 22s 2ms/step\n"
     ]
    },
    {
     "data": {
      "image/png": "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",
      "text/plain": [
       "<Figure size 800x600 with 2 Axes>"
      ]
     },
     "metadata": {},
     "output_type": "display_data"
    }
   ],
   "source": [
    "import matplotlib.pyplot as plt\n",
    "import seaborn as sns\n",
    "from sklearn.metrics import confusion_matrix\n",
    "import numpy as np\n",
    "\n",
    "# 모델 예측\n",
    "y_pred_proba = model.predict(X_test)\n",
    "y_pred = np.argmax(y_pred_proba, axis=1)\n",
    "\n",
    "# Confusion Matrix 생성\n",
    "cm = confusion_matrix(y_test, y_pred)\n",
    "\n",
    "# Confusion Matrix 시각화\n",
    "plt.figure(figsize=(8, 6))\n",
    "sns.heatmap(cm, annot=True, fmt='d', cmap='Blues', xticklabels=['0', '1', '2'], yticklabels=['0', '1', '2'])\n",
    "plt.xlabel('Predicted Labels')\n",
    "plt.ylabel('True Labels')\n",
    "plt.title('Confusion Matrix')\n",
    "plt.show()\n"
   ]
  },
  {
   "cell_type": "code",
   "execution_count": 41,
   "metadata": {},
   "outputs": [
    {
     "data": {
      "text/plain": [
       "array([[200439,  19931,   7855],\n",
       "       [ 32707,  15103,   5987],\n",
       "       [ 33145,  14821,   6964]])"
      ]
     },
     "execution_count": 41,
     "metadata": {},
     "output_type": "execute_result"
    }
   ],
   "source": [
    "cm"
   ]
  },
  {
   "cell_type": "code",
   "execution_count": 43,
   "metadata": {},
   "outputs": [
    {
     "data": {
      "text/plain": [
       "{0.0: 228225, 1.0: 53797, 2.0: 54930}"
      ]
     },
     "execution_count": 43,
     "metadata": {},
     "output_type": "execute_result"
    }
   ],
   "source": [
    "# 클래스별 개수 계산\n",
    "unique, counts = np.unique(y_test, return_counts=True)\n",
    "class_counts = dict(zip(unique, counts))\n",
    "\n",
    "class_counts"
   ]
  },
  {
   "cell_type": "code",
   "execution_count": 44,
   "metadata": {},
   "outputs": [
    {
     "data": {
      "text/plain": [
       "{0: 266291, 1: 49855, 2: 20806}"
      ]
     },
     "execution_count": 44,
     "metadata": {},
     "output_type": "execute_result"
    }
   ],
   "source": [
    "# 클래스별 개수 계산\n",
    "unique, counts = np.unique(y_pred, return_counts=True)\n",
    "class_counts = dict(zip(unique, counts))\n",
    "\n",
    "class_counts"
   ]
  },
  {
   "cell_type": "code",
   "execution_count": null,
   "metadata": {},
   "outputs": [],
   "source": [
    "import os\n",
    "import tensorflow as tf\n",
    "from sklearn.metrics import confusion_matrix\n",
    "from sklearn.metrics import precision_score\n",
    "from tensorflow.keras.models import load_model\n",
    "\n",
    "# 모델이 저장된 기본 경로\n",
    "base_path = '/home/zero/test1/one_preprocess_4(model)/'\n",
    "\n",
    "# 해당 경로에 있는 모든 항목을 리스트업\n",
    "all_files = os.listdir(base_path)\n",
    "\n",
    "# 모델 파일(또는 디렉토리)만 필터링\n",
    "model_files = [file for file in all_files if file.startswith('model_epoch')]\n",
    "\n",
    "# 각 모델 파일(또는 디렉토리)에 대해 반복\n",
    "for model_file in model_files:\n",
    "    # 모델 경로 조합\n",
    "    model_path = os.path.join(base_path, model_file)\n",
    "    \n",
    "    # 모델 불러오기\n",
    "    model = load_model(model_path, custom_objects={'MulticlassF1Score': MulticlassF1Score})\n",
    "    \n",
    "    # 모델을 사용하여 예측 수행\n",
    "    predictions = model.predict(X_test)\n",
    "    predicted_classes = np.argmax(predictions, axis=1)\n",
    "\n",
    "    # Confusion Matrix 계산\n",
    "    cm = confusion_matrix(y_test, predicted_classes)\n",
    "    \n",
    "    # 결과 출력\n",
    "    print(f\"Model: {model_file}\")\n",
    "    print(\"Confusion Matrix:\")\n",
    "    print(cm)\n",
    "    print(\"\\n\")\n",
    "    # 클래스 별 정밀도 계산\n",
    "    precision_1 = (precision_score(y_test, predicted_classes, labels=[1], average='micro')).round(4)\n",
    "    precision_2 = (precision_score(y_test, predicted_classes, labels=[2], average='micro')).round(4)\n",
    "\n",
    "    print(precision_1, precision_2)"
   ]
  },
  {
   "cell_type": "code",
   "execution_count": 22,
   "metadata": {},
   "outputs": [
    {
     "name": "stdout",
     "output_type": "stream",
     "text": [
      "10530/10530 [==============================] - 22s 2ms/step\n",
      "Model: model_epoch_01_val_accuracy_0.66.h5\n",
      "Confusion Matrix:\n",
      "[[200439  19931   7855]\n",
      " [ 32707  15103   5987]\n",
      " [ 33145  14821   6964]]\n",
      "\n",
      "\n",
      "0 0\n"
     ]
    }
   ],
   "source": [
    "import os\n",
    "import tensorflow as tf\n",
    "from sklearn.metrics import confusion_matrix\n",
    "import numpy as np\n",
    "from sklearn.metrics import precision_score\n",
    "\n",
    "\n",
    "# 폴더 경로 지정\n",
    "model_directory = '/home/zero/test1/one_preprocess_4(model)/'\n",
    "\n",
    "# 폴더 내 모든 .h5 파일 목록 가져오기\n",
    "model_files = [f for f in os.listdir(model_directory) if f.endswith('.h5')]\n",
    "\n",
    "for model_file in model_files:\n",
    "    # 모델 불러오기\n",
    "    model_path = os.path.join(model_directory, model_file)\n",
    "    model = tf.keras.models.load_model(model_path)\n",
    "    \n",
    "    # 모델을 사용하여 예측 수행\n",
    "    predictions = model.predict(X_test)\n",
    "    predicted_classes = np.argmax(predictions, axis=1)\n",
    "\n",
    "    # Confusion Matrix 계산\n",
    "    cm = confusion_matrix(y_test, predicted_classes)\n",
    "    \n",
    "    # 결과 출력\n",
    "    print(f\"Model: {model_file}\")\n",
    "    print(\"Confusion Matrix:\")\n",
    "    print(cm)\n",
    "    print(\"\\n\")\n",
    "    # 클래스 별 정밀도 계산\n",
    "    precision_1 = (precision_score(y_test, predicted_classes, labels=[1], average='micro')).round(4)\n",
    "    precision_2 = (precision_score(y_test, predicted_classes, labels=[2], average='micro')).round(4)\n",
    "\n",
    "    print(precision_1, precision_2)\n"
   ]
  },
  {
   "cell_type": "code",
   "execution_count": 1,
   "metadata": {},
   "outputs": [
    {
     "name": "stderr",
     "output_type": "stream",
     "text": [
      "2024-02-21 08:32:49.091485: I tensorflow/core/platform/cpu_feature_guard.cc:182] This TensorFlow binary is optimized to use available CPU instructions in performance-critical operations.\n",
      "To enable the following instructions: AVX2 FMA, in other operations, rebuild TensorFlow with the appropriate compiler flags.\n",
      "2024-02-21 08:32:51.445466: I tensorflow/compiler/xla/stream_executor/cuda/cuda_gpu_executor.cc:981] could not open file to read NUMA node: /sys/bus/pci/devices/0000:06:00.0/numa_node\n",
      "Your kernel may have been built without NUMA support.\n",
      "2024-02-21 08:32:51.542331: I tensorflow/compiler/xla/stream_executor/cuda/cuda_gpu_executor.cc:981] could not open file to read NUMA node: /sys/bus/pci/devices/0000:06:00.0/numa_node\n",
      "Your kernel may have been built without NUMA support.\n",
      "2024-02-21 08:32:51.542377: I tensorflow/compiler/xla/stream_executor/cuda/cuda_gpu_executor.cc:981] could not open file to read NUMA node: /sys/bus/pci/devices/0000:06:00.0/numa_node\n",
      "Your kernel may have been built without NUMA support.\n",
      "2024-02-21 08:32:51.543795: I tensorflow/compiler/xla/stream_executor/cuda/cuda_gpu_executor.cc:981] could not open file to read NUMA node: /sys/bus/pci/devices/0000:06:00.0/numa_node\n",
      "Your kernel may have been built without NUMA support.\n",
      "2024-02-21 08:32:51.543826: I tensorflow/compiler/xla/stream_executor/cuda/cuda_gpu_executor.cc:981] could not open file to read NUMA node: /sys/bus/pci/devices/0000:06:00.0/numa_node\n",
      "Your kernel may have been built without NUMA support.\n",
      "2024-02-21 08:32:51.543844: I tensorflow/compiler/xla/stream_executor/cuda/cuda_gpu_executor.cc:981] could not open file to read NUMA node: /sys/bus/pci/devices/0000:06:00.0/numa_node\n",
      "Your kernel may have been built without NUMA support.\n",
      "2024-02-21 08:32:51.770368: I tensorflow/compiler/xla/stream_executor/cuda/cuda_gpu_executor.cc:981] could not open file to read NUMA node: /sys/bus/pci/devices/0000:06:00.0/numa_node\n",
      "Your kernel may have been built without NUMA support.\n",
      "2024-02-21 08:32:51.770478: I tensorflow/compiler/xla/stream_executor/cuda/cuda_gpu_executor.cc:981] could not open file to read NUMA node: /sys/bus/pci/devices/0000:06:00.0/numa_node\n",
      "Your kernel may have been built without NUMA support.\n",
      "2024-02-21 08:32:51.770490: I tensorflow/core/common_runtime/gpu/gpu_device.cc:1726] Could not identify NUMA node of platform GPU id 0, defaulting to 0.  Your kernel may not have been built with NUMA support.\n",
      "2024-02-21 08:32:51.770523: I tensorflow/compiler/xla/stream_executor/cuda/cuda_gpu_executor.cc:981] could not open file to read NUMA node: /sys/bus/pci/devices/0000:06:00.0/numa_node\n",
      "Your kernel may have been built without NUMA support.\n",
      "2024-02-21 08:32:51.770563: I tensorflow/core/common_runtime/gpu/gpu_device.cc:1639] Created device /job:localhost/replica:0/task:0/device:GPU:0 with 5606 MB memory:  -> device: 0, name: NVIDIA GeForce RTX 3060 Ti, pci bus id: 0000:06:00.0, compute capability: 8.6\n"
     ]
    }
   ],
   "source": [
    "from tensorflow.keras.models import load_model\n",
    "model = load_model(f'/home/zero/test1/one_preprocess_4(model)/model_epoch_01_val_accuracy_0.66.h5')"
   ]
  }
 ],
 "metadata": {
  "kernelspec": {
   "display_name": "binance",
   "language": "python",
   "name": "python3"
  },
  "language_info": {
   "codemirror_mode": {
    "name": "ipython",
    "version": 3
   },
   "file_extension": ".py",
   "mimetype": "text/x-python",
   "name": "python",
   "nbconvert_exporter": "python",
   "pygments_lexer": "ipython3",
   "version": "3.10.13"
  }
 },
 "nbformat": 4,
 "nbformat_minor": 2
}
