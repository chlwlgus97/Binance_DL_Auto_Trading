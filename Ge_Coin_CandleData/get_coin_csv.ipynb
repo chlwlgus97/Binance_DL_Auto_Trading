{
 "cells": [
  {
   "cell_type": "code",
   "execution_count": null,
   "metadata": {},
   "outputs": [],
   "source": [
    "api_key = \"\"\n",
    "api_secret = \"\"\n",
    "\n",
    "from binance.client import Client\n",
    "from datetime import datetime\n",
    "import pandas as pd\n",
    "\n",
    "COLUMNS = ['open_time', 'open', 'high', 'low', 'close', 'volume', 'close_time', 'quote_av', 'trades', \n",
    "                   'tb_base_av', 'tb_quote_av', 'ignore']\n",
    "\n",
    "client = Client(api_key=api_key, api_secret=api_secret)\n",
    "\n",
    "def get_data(start_date, end_date, symbol):\n",
    "    data = client.futures_historical_klines(\n",
    "            symbol=symbol,\n",
    "            interval='1m',\n",
    "            start_str=start_date,\n",
    "            end_str=end_date\n",
    "        )\n",
    "    \n",
    "    # 전처리\n",
    "    df = pd.DataFrame(data)\n",
    "    df.columns = COLUMNS\n",
    "    df['open_time'] = df['open_time'].apply(lambda x: datetime.fromtimestamp(x // 1000))\n",
    "    df = df.drop(columns=['close_time', 'ignore'])\n",
    "    df['symbol'] = symbol\n",
    "    df.loc[:, 'open':'tb_quote_av'] = df.loc[:, 'open':'tb_quote_av'].astype(float)  # string to float\n",
    "    df['trades'] = df['trades'].astype(int)\n",
    "    return df\n",
    "\n",
    "start_date = '2020-11-01'\n",
    "end_date = '2024-01-15'\n",
    "symbols = [\n",
    "    'BTCUSDT', 'ETHUSDT', 'SOLUSDT', 'TRBUSDT', 'LINKUSDT', 'BNBUSDT',\n",
    "    'AVAXUSDT', 'MATICUSDT', 'XRPUSDT', 'ETCUSDT', 'FILUSDT', 'DOGEUSDT',\n",
    "    'NEARUSDT', 'ADAUSDT', 'LTCUSDT', 'BCHUSDT', 'FTMUSDT', 'ATOMUSDT',\n",
    "    'EOSUSDT', 'RUNEUSDT', 'CRVUSDT', 'UNIUSDT', 'TRXUSDT', 'MKRUSDT',\n",
    "    'XTZUSDT', 'EGLDUSDT', 'ALGOUSDT', 'XMRUSDT', 'NEOUSDT', 'COMPUSDT',\n",
    "    'THETAUSDT', 'SNXUSDT', 'XLMUSDT', 'ZILUSDT'\n",
    "]\n",
    "for i in symbols:\n",
    "    df = get_data(start_date=start_date, end_date=end_date, symbol=i)\n",
    "    df.to_csv(f'D:\\csv\\hist_coin_data\\{i}.csv', index=False)"
   ]
  }
 ],
 "metadata": {
  "kernelspec": {
   "display_name": "ml-dev",
   "language": "python",
   "name": "python3"
  },
  "language_info": {
   "name": "python",
   "version": "3.10.13"
  }
 },
 "nbformat": 4,
 "nbformat_minor": 2
}
